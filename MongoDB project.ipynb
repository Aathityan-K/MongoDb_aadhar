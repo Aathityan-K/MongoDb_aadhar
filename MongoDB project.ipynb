{
 "cells": [
  {
   "cell_type": "code",
   "execution_count": 90,
   "id": "0e7f8ef4",
   "metadata": {},
   "outputs": [],
   "source": [
    "import qrcode\n",
    "import pandas as pd\n",
    "from PIL import Image\n",
    "import io    \n",
    "import re\n",
    "import pymongo\n",
    "from fpdf import FPDF\n",
    "import random\n",
    "from datetime import datetime,timedelta,time"
   ]
  },
  {
   "cell_type": "code",
   "execution_count": 91,
   "id": "624094d9",
   "metadata": {},
   "outputs": [],
   "source": [
    "client = pymongo.MongoClient(\"mongodb://localhost:27017/\")"
   ]
  },
  {
   "cell_type": "code",
   "execution_count": 92,
   "id": "690b338b",
   "metadata": {},
   "outputs": [],
   "source": [
    "db = client.aadhar"
   ]
  },
  {
   "cell_type": "code",
   "execution_count": 93,
   "id": "2ca88e91",
   "metadata": {},
   "outputs": [],
   "source": [
    "records = db.card"
   ]
  },
  {
   "cell_type": "code",
   "execution_count": 94,
   "id": "8c15fe69",
   "metadata": {},
   "outputs": [],
   "source": [
    "def aadhar():\n",
    "  r=random.randint(1000,9999)\n",
    "  s=random.randint(1000,9999)\n",
    "  t=random.randint(1000,9999)\n",
    "  u=random.randint(1000,9999)\n",
    "  aadhar = str(r)+\"-\"+str(s)+\"-\"+str(t)+\"-\"+str(u)\n",
    "  return aadhar"
   ]
  },
  {
   "cell_type": "code",
   "execution_count": 95,
   "id": "458752ad",
   "metadata": {},
   "outputs": [],
   "source": [
    "def pic():\n",
    "    im = Image.open(\"dhoni.jpg\")\n",
    "    image_bytes = io.BytesIO()\n",
    "    im.save(image_bytes, format='JPEG')\n",
    "\n",
    "    prof_pic = {\n",
    "    \"image\":image_bytes.getvalue()\n",
    "    }\n",
    "    return prof_pic\n",
    "photo = {\"Photo\":pic()}"
   ]
  },
  {
   "cell_type": "code",
   "execution_count": 96,
   "id": "74aea0c8",
   "metadata": {},
   "outputs": [],
   "source": [
    "def date():\n",
    "    d = input(\"Enter your date of birth in DD/MM/YYYY format: \")\n",
    "    date_format= \"^([0]?[1-9]|[1|2][0-9]|[3][0|1])[./-]([0]?[1-9]|[1][0-2])[./-]([0-9]{4}|[0-9]{2})$\"\n",
    "    if re.match(date_format, d):\n",
    "        dob = {\"Date of Birth\": d}\n",
    "        return dob\n",
    "    else:\n",
    "        print(\"Enter valid date\")   "
   ]
  },
  {
   "cell_type": "code",
   "execution_count": 97,
   "id": "64ab33cb",
   "metadata": {},
   "outputs": [],
   "source": [
    "def address():\n",
    "    Plot_Number= input(\"Enter Plot Number: \")\n",
    "    Street= input(\"Enter Street Name: \")\n",
    "    City= input(\"Enter City: \")\n",
    "    State= input(\"Enter State: \")\n",
    "    Pincode= int(input(\"Enter Pincode Number: \"))\n",
    "    \n",
    "    address={\n",
    "              \"No,street\":Plot_Number +','+Street+',',\n",
    "              \"City\":City+',',\n",
    "              \"State\":State+',',\n",
    "              \"Pincode\":City+'-'+str(Pincode)+'.'\n",
    "          }\n",
    "    return address"
   ]
  },
  {
   "cell_type": "code",
   "execution_count": 98,
   "id": "7d3f9bd7",
   "metadata": {},
   "outputs": [],
   "source": [
    "def edu():\n",
    "    print(''' Select one option : \n",
    "                1. NA\n",
    "                2. 10th\n",
    "                3. 12th\n",
    "                4. Bachelors\n",
    "                5. Masters\n",
    "                6. Doctorate''')\n",
    "    n = int(input(\"Enter the option: \"))\n",
    "    if n == 1:\n",
    "        e = {\"Education\": \"NA\", \"Stream\":\"NA\"}\n",
    "        return e\n",
    "    elif n == 2:\n",
    "        e = {\"Education\": \"10th standard\", \"Stream\":\"NA\"}\n",
    "        return e\n",
    "    elif n == 3:\n",
    "        e = {\"Education\": \"12th standard\",\"Stream\":\"NA\"}\n",
    "        return e\n",
    "    elif n == 4:\n",
    "        ug = input(\"Enter Bachelors degree (Eg:B.E,Btech): \")\n",
    "        stream = input(\"Enter Stream (Eg:Mechanical, English): \")\n",
    "        \n",
    "        e={\"Education\": ug,\"Stream\": stream}\n",
    "        return e\n",
    "    elif n == 5:\n",
    "        pg = input(\"Enter Masters degree (Eg:M.E,Mtech): \")\n",
    "        stream = input(\"Enter Stream (Eg:Mechanical, English): \")\n",
    "        \n",
    "        e={\"Education\": pg, \"Stream\": stream}\n",
    "        return e\n",
    "    elif n == 6:\n",
    "        stream = input(\"Enter Stream (Eg:Mechanical, English): \")\n",
    "        \n",
    "        e={\"Education\": \"PhD\", \"Stream\": stream}\n",
    "        return e\n",
    "    else:\n",
    "        print(\"invalid input\")\n"
   ]
  },
  {
   "cell_type": "code",
   "execution_count": 99,
   "id": "35a5600c",
   "metadata": {},
   "outputs": [],
   "source": [
    "def email():\n",
    "    email_id = input(\"Enter valid Email address: \")\n",
    "    k = \"[\\w\\.-]+@[\\w\\.-]+\\.[\\w]+\"\n",
    "    if re.fullmatch(k, email_id):\n",
    "        return email_id\n",
    "    else:\n",
    "        print(\"Your Email is not valid\")"
   ]
  },
  {
   "cell_type": "code",
   "execution_count": 100,
   "id": "b241a8ef",
   "metadata": {},
   "outputs": [],
   "source": [
    "def created():\n",
    "    now = datetime.now()\n",
    "    date= datetime.strftime(now, '%d/%m/%y')\n",
    "    return date"
   ]
  },
  {
   "cell_type": "code",
   "execution_count": 101,
   "id": "ce23c723",
   "metadata": {},
   "outputs": [],
   "source": [
    "def renewal():\n",
    "    now = datetime.now()+timedelta(days=730)\n",
    "    renew = datetime.strftime(now,'%d/%m/%y')\n",
    "    return renew"
   ]
  },
  {
   "cell_type": "code",
   "execution_count": 102,
   "id": "1696576b",
   "metadata": {},
   "outputs": [],
   "source": [
    "def aadhar_detail():\n",
    "    a={\n",
    "        \"Aadhar_Id\": aadhar(),\n",
    "        \"Name\": input(\"Enter your Name: \"),\n",
    "        \"photo\":pic(),\n",
    "        \"Gender\": input(\"Enter you gender (M/F/T): \"),\n",
    "        \"Date of Birth\": date(),\n",
    "        \"Address\": address(),\n",
    "        \"Education\": edu(),\n",
    "        \"Email\": email(),\n",
    "        \"Created at\": created(),\n",
    "        \"Renewal Date\": renewal()\n",
    "    }\n",
    "\n",
    "    records.insert_one(a)\n",
    "    return a"
   ]
  },
  {
   "cell_type": "code",
   "execution_count": 103,
   "id": "f52ff5d3",
   "metadata": {},
   "outputs": [],
   "source": [
    "def update_contact():\n",
    "    aadhar = input(\"Enter your aadhar number: \")\n",
    "    m = input('''Select one option to update: \n",
    "              1. Name\n",
    "              2. Email_id\n",
    "              3. Address\n",
    "              4. profile_pic\n",
    "              5. Education Details \\n''')\n",
    "    if m<6:\n",
    "        if m==1:\n",
    "            name = input(\"Enter full name: \")\n",
    "            find={\"Aadhar_Id\":aadhar}\n",
    "            update={\"$set\":{\"Name\":name}}\n",
    "            records.update_one(find, update)\n",
    "            print(\"Updated\")\n",
    "        elif m==2:\n",
    "            gender = input(\"Enter your Gender: \")\n",
    "            find={\"Aadhar_Id\":aadhar}\n",
    "            update={\"$set\":{\"Gender\":gender}}\n",
    "            records.update_one(find,update)\n",
    "            print(\"Updated\")\n",
    "        elif m==3:\n",
    "            find={\"Aadhar_Id\":aadhar}\n",
    "            update={\"$set\":{\"Address\":address()}}\n",
    "            records.update_one(find, update)\n",
    "            print(\"Updated\")\n",
    "        elif m == 4:\n",
    "            find={\"Aadhar_Id\": aadhar}\n",
    "            update={\"$set\":{\"photo\":pic()}}\n",
    "            records.update_one(find, update)\n",
    "            print(\"Updated\")\n",
    "        elif m == 5:\n",
    "            find={\"Aadhar_Id\":aadhar}\n",
    "            update={\"$set\":{\"Education\":edu()}}\n",
    "            records.update_one(find, update)\n",
    "            print(\"Updated\")\n",
    "    else:\n",
    "        print(\"Select Valid option\")\n",
    "\n",
    "        "
   ]
  },
  {
   "cell_type": "code",
   "execution_count": 140,
   "id": "be23428f",
   "metadata": {},
   "outputs": [],
   "source": [
    "from tabulate import tabulate\n",
    "def card():\n",
    "    pdf = FPDF()\n",
    "    pdf.add_page()\n",
    "    pdf.set_font(\"Arial\", size=5)\n",
    "\n",
    "    qr = qrcode.QRCode(version=1, error_correction=qrcode.constants.ERROR_CORRECT_L,\n",
    "                      box_size=2, border=4)\n",
    "\n",
    "    aadhar=input(\"Enter the Aadhar number: \")\n",
    "    c = {\"Aadhar_Id\":aadhar}\n",
    "    details = records.find(c,{'_id':0, 'Aadhar_Id':1, \n",
    "                             \"Name\":1, \"Date of Birth\":1,\n",
    "                             \"Gender\":1,\"Education.Education\":1, \"Education.Stream\":1,\n",
    "                             \"Address.No,street\":1,\"Address.City\":1, \"Address.State\":1, \"Address.Pincode\":1,\"Email\":1,\"Renewal Date\":1})\n",
    "\n",
    "    for i in details:\n",
    "        pdf.set_font(\"Arial\", size=14)\n",
    "        aadhar= ( \"                        {}   \"   .format(i['Aadhar_Id']))\n",
    "        pdf.cell(180,15, aadhar,ln=1,align='C') \n",
    "        nam=         ( \"           Name                    :        {}           \" .format(i[\"Name\"]))        \n",
    "        dob=         ( \"             DOB                     :       {}           \"  .format(i['Date of Birth'])  )\n",
    "        Gender=      ( \"           Gender                  :       {}           \"  .format(i[\"Gender\"]))\n",
    "        education=   ( \"           Education Details       :         \"          )\n",
    "        education1 = ( \"                  Education        :       {}         \" .format(i['Education']['Education']))\n",
    "        stream =     ( \"                   Stream          :       {}         \" .format(i['Education']['Stream']))\n",
    "        address=     ( \"           Address                 :                   \"  )\n",
    "        street=      ( \"                           Street  :    {}     \"  .format(i[\"Address\"]['No,street']))\n",
    "        city=        ( \"                City            :       {}          \"  .format(i[\"Address\"]['City']))\n",
    "        state=       ( \"                   State           :       {}          \"  .format(i[\"Address\"]['State']))\n",
    "        pincode=     ( \"                   Pincode         :       {}          \"  .format(i[\"Address\"]['Pincode']))\n",
    "        email=       ( \"           Email-id                :       {}          \"  .format(i[\"Email\"])) \n",
    "        renewaldate= ( \"           renewal_date            :       {}          \"  .format(i[\"Renewal Date\"]))\n",
    "    \n",
    "    pdf.set_font(\"Arial\",size=10)\n",
    "    pdf.set_fill_color(255, 255, 255)\n",
    "    pdf.cell(200,10, nam,ln=2,align='C')\n",
    "    pdf.cell(180,10, dob,ln=3,align='C')\n",
    "    pdf.cell(182,10, Gender,ln=4,align='C')\n",
    "    pdf.cell(158,10, education,ln=5,align='C')\n",
    "    pdf.cell(175,10, education1,ln=6,align='C')\n",
    "    pdf.cell(175,10, stream,ln=7,align='C')\n",
    "    pdf.cell(173,10, address,ln=8,align='C')\n",
    "    pdf.cell(180,10, street,ln=9,align='C')\n",
    "    pdf.cell(187,10, city,ln=10,align='C')\n",
    "    pdf.cell(196,10, pincode,ln=11,align='C')\n",
    "    pdf.cell(211,10, email,ln=12,align='C')\n",
    "    pdf.cell(196,19, renewaldate,ln=13,align='C')\n",
    "    \n",
    "    retival= records.find_one(c)  \n",
    "    pil_im = Image.open(io.BytesIO(retival['photo']['image']))\n",
    "    img = pil_im.crop()\n",
    "    image=img.save(\"qr.jpg\") \n",
    "    pdf.image(\"qr.jpg\",20,30,30,40)\n",
    "    \n",
    "    qr.add_data(qr)    \n",
    "    qr.make(fit = True)    \n",
    "    qr_img = obj_qr.make_image(fill_color = \"black\", back_color = \"white\")    \n",
    "    qr_img.save(\"aadharqr.png\")  \n",
    "    pdf.image(\"aadharqr.png\",170,40,35,35)\n",
    "    pdf.output(\"Dhoni.pdf\")\n",
    "    \n",
    "\n"
   ]
  },
  {
   "cell_type": "code",
   "execution_count": 141,
   "id": "8343c256",
   "metadata": {},
   "outputs": [
    {
     "name": "stdout",
     "output_type": "stream",
     "text": [
      " Select an option \n",
      "             1. Create Aadhar\n",
      "             2. Edit Aadhar\n",
      "             3. Download Aadhar \n",
      "3\n",
      "Enter the Aadhar number: 9732-1503-7098-1461\n"
     ]
    }
   ],
   "source": [
    "op= int(input(''' Select an option \n",
    "             1. Create Aadhar\n",
    "             2. Edit Aadhar\n",
    "             3. Download Aadhar \\n'''))\n",
    "if op == 1:\n",
    "    aadhar_detail()\n",
    "elif op == 2:\n",
    "    update_contact()\n",
    "elif op == 3:\n",
    "    card()\n",
    "else:\n",
    "    print(\"Enter valid input\")\n"
   ]
  },
  {
   "cell_type": "code",
   "execution_count": null,
   "id": "1057a1e8",
   "metadata": {},
   "outputs": [],
   "source": []
  }
 ],
 "metadata": {
  "kernelspec": {
   "display_name": "Python 3 (ipykernel)",
   "language": "python",
   "name": "python3"
  },
  "language_info": {
   "codemirror_mode": {
    "name": "ipython",
    "version": 3
   },
   "file_extension": ".py",
   "mimetype": "text/x-python",
   "name": "python",
   "nbconvert_exporter": "python",
   "pygments_lexer": "ipython3",
   "version": "3.9.13"
  }
 },
 "nbformat": 4,
 "nbformat_minor": 5
}
